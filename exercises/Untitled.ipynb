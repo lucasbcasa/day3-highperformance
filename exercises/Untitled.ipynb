{
 "cells": [
  {
   "cell_type": "code",
   "execution_count": 28,
   "id": "0a58dee4-2a2b-4394-b05f-3848e19f6a5e",
   "metadata": {},
   "outputs": [
    {
     "name": "stdout",
     "output_type": "stream",
     "text": [
      "[0, 1, 4]\n",
      "(array([0, 1, 4], dtype=int64),)\n",
      "[1 2 4]\n"
     ]
    }
   ],
   "source": [
    "my_list = [1,2,0,0,4,0]\n",
    "non_zero_indices = [i for i, val in enumerate(my_list) if val!=0] # With lists\n",
    "my_array = np.array(my_list)\n",
    "non_zero_indices_np = np.nonzero(my_array) # With arrays\n",
    "print(non_zero_indices)\n",
    "print(non_zero_indices_np)\n",
    "print(my_array[non_zero_indices_np])"
   ]
  },
  {
   "cell_type": "code",
   "execution_count": 31,
   "id": "6688fa20-67f7-4f49-bd27-1c7099e98b33",
   "metadata": {},
   "outputs": [
    {
     "name": "stdout",
     "output_type": "stream",
     "text": [
      "[[1. 1. 1. 1. 1. 1. 1. 1. 1. 1.]\n",
      " [1. 0. 0. 0. 0. 0. 0. 0. 0. 1.]\n",
      " [1. 0. 0. 0. 0. 0. 0. 0. 0. 1.]\n",
      " [1. 0. 0. 0. 0. 0. 0. 0. 0. 1.]\n",
      " [1. 0. 0. 0. 0. 0. 0. 0. 0. 1.]\n",
      " [1. 0. 0. 0. 0. 0. 0. 0. 0. 1.]\n",
      " [1. 0. 0. 0. 0. 0. 0. 0. 0. 1.]\n",
      " [1. 0. 0. 0. 0. 0. 0. 0. 0. 1.]\n",
      " [1. 0. 0. 0. 0. 0. 0. 0. 0. 1.]\n",
      " [1. 1. 1. 1. 1. 1. 1. 1. 1. 1.]]\n"
     ]
    }
   ],
   "source": [
    "N = 10 # Array sizes\n",
    "array = np.ones((N,N)) # Create array of ones\n",
    "array[1:-1, 1:-1] = 0 # Empty the values not on border\n",
    "print(array)"
   ]
  },
  {
   "cell_type": "code",
   "execution_count": 41,
   "id": "cc12e2e3-3f48-4099-93df-275dde4ade8b",
   "metadata": {},
   "outputs": [
    {
     "name": "stdout",
     "output_type": "stream",
     "text": [
      "[[1 0 1 0 1 0 1 0]\n",
      " [0 1 0 1 0 1 0 1]\n",
      " [1 0 1 0 1 0 1 0]\n",
      " [0 1 0 1 0 1 0 1]\n",
      " [1 0 1 0 1 0 1 0]\n",
      " [0 1 0 1 0 1 0 1]\n",
      " [1 0 1 0 1 0 1 0]\n",
      " [0 1 0 1 0 1 0 1]]\n"
     ]
    }
   ],
   "source": [
    "checkerboard = np.array([[1 if i%2==j%2 else 0 for i in range(8)] for j in range(8)])\n",
    "print(checkerboard)"
   ]
  },
  {
   "cell_type": "code",
   "execution_count": 42,
   "id": "436bc65c-99c8-485e-beb9-66cb8cedf1da",
   "metadata": {},
   "outputs": [
    {
     "name": "stdout",
     "output_type": "stream",
     "text": [
      "[ 0  1  2 -3 -4 -5 -6 -7  8  9 10]\n"
     ]
    }
   ],
   "source": [
    "Z = np.arange(11)\n",
    "Z[3:8] *= -1\n",
    "print(Z)"
   ]
  },
  {
   "cell_type": "code",
   "execution_count": 43,
   "id": "118f61d6-3010-4f3b-abfd-dc8023e829be",
   "metadata": {},
   "outputs": [
    {
     "name": "stdout",
     "output_type": "stream",
     "text": [
      "int32\n",
      "float32\n"
     ]
    }
   ],
   "source": [
    "Z = np.arange(10, dtype=np.int32)\n",
    "print(Z.dtype)\n",
    "Z = Z.view('float32')\n",
    "print(Z.dtype)"
   ]
  },
  {
   "cell_type": "code",
   "execution_count": 45,
   "id": "98c1e164-04e3-4fbc-95af-7719fc55488c",
   "metadata": {},
   "outputs": [
    {
     "name": "stdout",
     "output_type": "stream",
     "text": [
      "[[ 18  21  24]\n",
      " [ 54  66  78]\n",
      " [ 90 111 132]]\n",
      "[ 18  66 132]\n"
     ]
    }
   ],
   "source": [
    "A = np.arange(9).reshape(3,3)\n",
    "B = A + 1\n",
    "C = np.dot(A,B)\n",
    "D = np.diag(C)\n",
    "print(C)\n",
    "print(D)"
   ]
  },
  {
   "cell_type": "code",
   "execution_count": 46,
   "id": "84437c15-b9ba-40b3-ab94-b9d8bf2697f9",
   "metadata": {},
   "outputs": [
    {
     "name": "stdout",
     "output_type": "stream",
     "text": [
      "[[1 0 1 0 1 0 1 0]\n",
      " [0 1 0 1 0 1 0 1]\n",
      " [1 0 1 0 1 0 1 0]\n",
      " [0 1 0 1 0 1 0 1]\n",
      " [1 0 1 0 1 0 1 0]\n",
      " [0 1 0 1 0 1 0 1]\n",
      " [1 0 1 0 1 0 1 0]\n",
      " [0 1 0 1 0 1 0 1]]\n"
     ]
    }
   ],
   "source": [
    "tile = [[1,0],[0,1]]\n",
    "checkerboard_from_tile = np.tile(tile, (4,4))\n",
    "print(checkerboard_from_tile)"
   ]
  },
  {
   "cell_type": "code",
   "execution_count": 49,
   "id": "4869f098-e2ec-4c60-ae0e-2901479a1111",
   "metadata": {},
   "outputs": [
    {
     "name": "stdout",
     "output_type": "stream",
     "text": [
      "[ 0  1  2 -3 -4 -5 -6 -7  8  9 10]\n",
      "[ 0  1  2 -3 -4 -5 -6 -7  8  9 10]\n"
     ]
    }
   ],
   "source": [
    "Z = np.arange(11)\n",
    "Z[3:8] *= -1 # Negating elements between 3rd and 8th indices\n",
    "print(Z)\n",
    "\n",
    "Z = np.arange(11)\n",
    "Z[(Z >= 3) & (Z < 8)] *= -1 # Negating elements based on their values (between 3 and 8)\n",
    "print(Z)"
   ]
  },
  {
   "cell_type": "code",
   "execution_count": 50,
   "id": "a63fc925-e2f8-45d0-a97c-ff517f999023",
   "metadata": {},
   "outputs": [
    {
     "name": "stdout",
     "output_type": "stream",
     "text": [
      "[0.13197721 0.17045175 0.17235228 0.31390614 0.32901831 0.38673589\n",
      " 0.46281756 0.52504866 0.84990624 0.96989423]\n"
     ]
    }
   ],
   "source": [
    "Z = np.random.random(10)\n",
    "Z = np.sort(Z)\n",
    "print(Z)"
   ]
  },
  {
   "cell_type": "code",
   "execution_count": 51,
   "id": "c158cc20-0598-48b2-82d2-c0ecbd5d4100",
   "metadata": {},
   "outputs": [
    {
     "name": "stdout",
     "output_type": "stream",
     "text": [
      "False\n"
     ]
    }
   ],
   "source": [
    "A = np.random.randint(0,2,5)\n",
    "B = np.random.randint(0,2,5)\n",
    "equal = (A==B).all()\n",
    "print(equal)\n"
   ]
  },
  {
   "cell_type": "code",
   "execution_count": 52,
   "id": "9becca5a-f239-429a-a021-18a77a87b436",
   "metadata": {},
   "outputs": [
    {
     "name": "stdout",
     "output_type": "stream",
     "text": [
      "int32\n",
      "float32\n"
     ]
    }
   ],
   "source": [
    "Z = np.arange(10, dtype=np.int32)\n",
    "print(Z.dtype)\n",
    "Z = Z.view('float32')\n",
    "print(Z.dtype)"
   ]
  },
  {
   "cell_type": "code",
   "execution_count": 53,
   "id": "8bbd177c-620b-4a9c-90d5-9c72965071fa",
   "metadata": {},
   "outputs": [
    {
     "name": "stdout",
     "output_type": "stream",
     "text": [
      "[[ 18  21  24]\n",
      " [ 54  66  78]\n",
      " [ 90 111 132]]\n",
      "[ 18  66 132]\n"
     ]
    }
   ],
   "source": [
    "A = np.arange(9).reshape(3,3)\n",
    "B = A + 1\n",
    "C = np.dot(A,B)\n",
    "D = np.diag(C)\n",
    "print(C) # Show the matrix to check we are indeed getting the diagonal\n",
    "print(D)"
   ]
  },
  {
   "cell_type": "code",
   "execution_count": null,
   "id": "fd18e4f1-5646-461c-b153-a92903dd9056",
   "metadata": {},
   "outputs": [],
   "source": []
  }
 ],
 "metadata": {
  "kernelspec": {
   "display_name": "Python 3",
   "language": "python",
   "name": "python3"
  },
  "language_info": {
   "codemirror_mode": {
    "name": "ipython",
    "version": 3
   },
   "file_extension": ".py",
   "mimetype": "text/x-python",
   "name": "python",
   "nbconvert_exporter": "python",
   "pygments_lexer": "ipython3",
   "version": "3.8.8"
  }
 },
 "nbformat": 4,
 "nbformat_minor": 5
}
