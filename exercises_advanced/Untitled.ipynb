{
 "cells": [
  {
   "cell_type": "code",
   "execution_count": 7,
   "id": "bb99558b-0596-4943-b44e-7f74b1cc01cf",
   "metadata": {},
   "outputs": [
    {
     "name": "stdout",
     "output_type": "stream",
     "text": [
      "[[0.1        0.2        1.        ]\n",
      " [0.15       0.2        1.        ]\n",
      " [0.16666667 0.2        1.        ]\n",
      " [0.175      0.2        1.        ]]\n"
     ]
    }
   ],
   "source": [
    "p = [[1.0, 2.0, 10],\n",
    "     [3.0, 4.0, 20],\n",
    "     [5.0, 6.0, 30],\n",
    "     [7.0, 8.0, 40]]\n",
    "# Normalise each coordinate by dividing with its Z (3rd) element. For example, the first row becomes:\n",
    "# `[1/10, 2/10, 10/10]`\n",
    "# Hint: extract the last column into a variable z, and then change its dimensions so that p / z works.\n",
    "import numpy as np\n",
    "p = np.array(p)\n",
    "p = p/p[:,-1][:, np.newaxis]\n",
    "print(p)"
   ]
  },
  {
   "cell_type": "code",
   "execution_count": 18,
   "id": "41d2ce75-6b7f-421a-8269-71c08e3a6a26",
   "metadata": {},
   "outputs": [
    {
     "name": "stdout",
     "output_type": "stream",
     "text": [
      "[[0.54261197 0.01648213 0.82807829]\n",
      " [0.46406435 0.98399719 0.82246122]\n",
      " [0.40655616 0.63793567 0.6814359 ]]\n",
      "[0.54261197 0.98399719 0.6814359 ]\n"
     ]
    }
   ],
   "source": [
    "array = np.random.rand(3,3) # Create array\n",
    "diagonal = array[range(3),range(3)] # access diagonal elements\n",
    "print(array)\n",
    "print(diagonal)"
   ]
  },
  {
   "cell_type": "code",
   "execution_count": 27,
   "id": "9e4df2fd-238c-4307-a49e-3f556e12ac38",
   "metadata": {},
   "outputs": [
    {
     "name": "stdout",
     "output_type": "stream",
     "text": [
      "Column indices:  [2, 0, 1, 1, 2, 0, 1, 1, 0, 0]\n",
      "Closest values:  [0.57197039 0.86977013 0.50703856 0.60788132 0.93303445 0.14890818\n",
      " 0.80635451 0.76882804 0.81424667 0.97199081]\n"
     ]
    }
   ],
   "source": [
    "import numpy as np\n",
    "array = np.random.rand(10,3)\n",
    "j = []\n",
    "for row in array:\n",
    "    j.append(np.argmin(np.abs(row-0.75)))\n",
    "print(\"Column indices: \", j)\n",
    "print(\"Closest values: \", array[range(10),j])"
   ]
  },
  {
   "cell_type": "code",
   "execution_count": 2,
   "id": "74e0981e-e012-410e-929a-d72994fb7c00",
   "metadata": {},
   "outputs": [
    {
     "data": {
      "text/plain": [
       "5"
      ]
     },
     "execution_count": 2,
     "metadata": {},
     "output_type": "execute_result"
    }
   ],
   "source": [
    "import numpy as np\n",
    "array = np.random.rand(10,3)\n",
    "array[range(10), ]\n",
    "np.argmin(np.abs(array-0.75))\n",
    "# print(\"Column indices: \", j)\n",
    "# print(\"Closest values: \", array[range(10),j])"
   ]
  },
  {
   "cell_type": "code",
   "execution_count": 5,
   "id": "be1d4a89-cc4e-4e82-a064-c3a38c87acc2",
   "metadata": {},
   "outputs": [
    {
     "data": {
      "text/plain": [
       "array([9, 5, 9], dtype=int64)"
      ]
     },
     "execution_count": 5,
     "metadata": {},
     "output_type": "execute_result"
    }
   ],
   "source": [
    "import numpy as np\n",
    "array = np.random.rand(10,3)"
   ]
  },
  {
   "cell_type": "code",
   "execution_count": 15,
   "id": "35674d7c-e2e2-4d6f-9084-a697b35b1b80",
   "metadata": {},
   "outputs": [
    {
     "name": "stdout",
     "output_type": "stream",
     "text": [
      "Column indices:  [1 2 2 2 1 1 0 0 1 2]\n",
      "Closest values:  [0.44878575 0.7973273  0.68254201 0.38388891 0.70429783 0.71634223\n",
      " 0.98655728 0.87407857 0.82124707 0.94627131]\n"
     ]
    }
   ],
   "source": [
    "array = np.random.rand(10,3)\n",
    "j = np.argmin(np.abs(array-0.75), axis=1)\n",
    "closest_values = array[range(10), j]\n",
    "print(\"Column indices: \", j)\n",
    "print(\"Closest values: \", closest_values)"
   ]
  },
  {
   "cell_type": "code",
   "execution_count": 16,
   "id": "a2be1d2c-44a3-4cb2-958e-a05a98423d87",
   "metadata": {},
   "outputs": [
    {
     "name": "stdout",
     "output_type": "stream",
     "text": [
      "[[0.08336952 0.44878575 0.21810328]\n",
      " [0.81995102 0.8899318  0.7973273 ]\n",
      " [0.01694503 0.24999743 0.68254201]\n",
      " [0.28228752 0.09907938 0.38388891]\n",
      " [0.26428887 0.70429783 0.32091132]\n",
      " [0.59214984 0.71634223 0.52545236]\n",
      " [0.98655728 0.13297756 0.053452  ]\n",
      " [0.87407857 0.18553112 0.22308024]\n",
      " [0.86669762 0.82124707 0.27217017]\n",
      " [0.08864316 0.14209958 0.94627131]]\n"
     ]
    }
   ],
   "source": [
    "print(array)"
   ]
  },
  {
   "cell_type": "code",
   "execution_count": 27,
   "id": "50959adc-8de7-45e1-8dbd-e297135f8689",
   "metadata": {},
   "outputs": [],
   "source": [
    "x = np.empty((10, 8, 6))\n",
    "\n",
    "idx0 = np.zeros((3, 8)).astype(int)\n",
    "idx1 = np.zeros((3, 1)).astype(int)\n",
    "idx1_prime = np.zeros((3)).astype(int)\n",
    "idx2 = np.zeros((1, 1)).astype(int)"
   ]
  },
  {
   "cell_type": "code",
   "execution_count": 34,
   "id": "77cc25a4-5ad2-48d8-8b4d-f3759d1315cd",
   "metadata": {},
   "outputs": [
    {
     "name": "stdout",
     "output_type": "stream",
     "text": [
      "Check prediction (3 x 8 x 8 x 6):  (3, 8, 8, 6)\n",
      "Check prediction (3 x 8 x 6):  (3, 8, 6)\n",
      "Check prediction (3 x 8):  (3, 8)\n"
     ]
    }
   ],
   "source": [
    "# Predictions: x has shape 10 x 8 x 6\n",
    "# x[idx0,:,:] should have shape (3 x 8) x (8 x 6), since we set the first entry of x to 3 x 8 values, and for each value we get a 8 x 6 matrix back\n",
    "print(\"Check prediction (3 x 8 x 8 x 6): \", x[idx0,:,:].shape)\n",
    "# x[idx0,idx1,:] should have shape Broadcast((3 x 8), (3 x 1)) x (6), since we set the first entry of x to 3 x 8 values, the second to 3 x 1 values simultaneously, and for each value we get an array of length (6) back. The broadcast results in Broadcast((3 x 8), (3 x 1)) = 3 x 8, so the final shape is 3 x 8 x 6.\n",
    "print(\"Check prediction (3 x 8 x 6): \", x[idx0,idx1,:].shape)\n",
    "# x[idx0,idx1,idx2] should have shape Broadcast((3 x 8), (3 x 1), (1 x 1)) x (), since we set the first entry of x to 3 x 8 values, the second to 3 x 1 values and the third to 1 x 1 simultaneously, and for each value we get a number back. The broadcast results in Broadcast((3 x 8), (3 x 1), (1 x 1)) = 3 x 8, so the final shape is 3 x 8.\n",
    "print(\"Check prediction (3 x 8): \", x[idx0,idx1,idx2].shape)"
   ]
  },
  {
   "cell_type": "code",
   "execution_count": null,
   "id": "e6140c2c-97fd-4bf3-b45a-883caa5c6246",
   "metadata": {},
   "outputs": [],
   "source": []
  }
 ],
 "metadata": {
  "kernelspec": {
   "display_name": "Python 3",
   "language": "python",
   "name": "python3"
  },
  "language_info": {
   "codemirror_mode": {
    "name": "ipython",
    "version": 3
   },
   "file_extension": ".py",
   "mimetype": "text/x-python",
   "name": "python",
   "nbconvert_exporter": "python",
   "pygments_lexer": "ipython3",
   "version": "3.8.8"
  }
 },
 "nbformat": 4,
 "nbformat_minor": 5
}
